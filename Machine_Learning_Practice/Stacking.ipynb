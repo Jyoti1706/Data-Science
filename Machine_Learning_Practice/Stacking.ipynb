{
 "cells": [
  {
   "cell_type": "code",
   "execution_count": 22,
   "metadata": {},
   "outputs": [],
   "source": [
    "import pandas as pd\n",
    "import numpy as np\n",
    "from sklearn import tree \n",
    "from sklearn import model_selection\n",
    "from sklearn import ensemble\n",
    "#from sklearn_pandas import CategoricalImputer\n",
    "from mlxtend import classifier as mlxClassifier #For Stacking"
   ]
  },
  {
   "cell_type": "code",
   "execution_count": 10,
   "metadata": {},
   "outputs": [],
   "source": [
    "df = pd.read_csv('train.csv')"
   ]
  },
  {
   "cell_type": "code",
   "execution_count": 11,
   "metadata": {},
   "outputs": [
    {
     "data": {
      "text/html": [
       "<div>\n",
       "<style scoped>\n",
       "    .dataframe tbody tr th:only-of-type {\n",
       "        vertical-align: middle;\n",
       "    }\n",
       "\n",
       "    .dataframe tbody tr th {\n",
       "        vertical-align: top;\n",
       "    }\n",
       "\n",
       "    .dataframe thead th {\n",
       "        text-align: right;\n",
       "    }\n",
       "</style>\n",
       "<table border=\"1\" class=\"dataframe\">\n",
       "  <thead>\n",
       "    <tr style=\"text-align: right;\">\n",
       "      <th></th>\n",
       "      <th>id</th>\n",
       "      <th>bone_length</th>\n",
       "      <th>rotting_flesh</th>\n",
       "      <th>hair_length</th>\n",
       "      <th>has_soul</th>\n",
       "      <th>color</th>\n",
       "      <th>type</th>\n",
       "    </tr>\n",
       "  </thead>\n",
       "  <tbody>\n",
       "    <tr>\n",
       "      <th>0</th>\n",
       "      <td>0</td>\n",
       "      <td>0.354512</td>\n",
       "      <td>0.350839</td>\n",
       "      <td>0.465761</td>\n",
       "      <td>0.781142</td>\n",
       "      <td>clear</td>\n",
       "      <td>Ghoul</td>\n",
       "    </tr>\n",
       "    <tr>\n",
       "      <th>1</th>\n",
       "      <td>1</td>\n",
       "      <td>0.575560</td>\n",
       "      <td>0.425868</td>\n",
       "      <td>0.531401</td>\n",
       "      <td>0.439899</td>\n",
       "      <td>green</td>\n",
       "      <td>Goblin</td>\n",
       "    </tr>\n",
       "    <tr>\n",
       "      <th>2</th>\n",
       "      <td>2</td>\n",
       "      <td>0.467875</td>\n",
       "      <td>0.354330</td>\n",
       "      <td>0.811616</td>\n",
       "      <td>0.791225</td>\n",
       "      <td>black</td>\n",
       "      <td>Ghoul</td>\n",
       "    </tr>\n",
       "    <tr>\n",
       "      <th>3</th>\n",
       "      <td>4</td>\n",
       "      <td>0.776652</td>\n",
       "      <td>0.508723</td>\n",
       "      <td>0.636766</td>\n",
       "      <td>0.884464</td>\n",
       "      <td>black</td>\n",
       "      <td>Ghoul</td>\n",
       "    </tr>\n",
       "    <tr>\n",
       "      <th>4</th>\n",
       "      <td>5</td>\n",
       "      <td>0.566117</td>\n",
       "      <td>0.875862</td>\n",
       "      <td>0.418594</td>\n",
       "      <td>0.636438</td>\n",
       "      <td>green</td>\n",
       "      <td>Ghost</td>\n",
       "    </tr>\n",
       "  </tbody>\n",
       "</table>\n",
       "</div>"
      ],
      "text/plain": [
       "   id  bone_length  rotting_flesh  hair_length  has_soul  color    type\n",
       "0   0     0.354512       0.350839     0.465761  0.781142  clear   Ghoul\n",
       "1   1     0.575560       0.425868     0.531401  0.439899  green  Goblin\n",
       "2   2     0.467875       0.354330     0.811616  0.791225  black   Ghoul\n",
       "3   4     0.776652       0.508723     0.636766  0.884464  black   Ghoul\n",
       "4   5     0.566117       0.875862     0.418594  0.636438  green   Ghost"
      ]
     },
     "execution_count": 11,
     "metadata": {},
     "output_type": "execute_result"
    }
   ],
   "source": [
    "df.head()"
   ]
  },
  {
   "cell_type": "code",
   "execution_count": 12,
   "metadata": {},
   "outputs": [
    {
     "data": {
      "text/html": [
       "<div>\n",
       "<style scoped>\n",
       "    .dataframe tbody tr th:only-of-type {\n",
       "        vertical-align: middle;\n",
       "    }\n",
       "\n",
       "    .dataframe tbody tr th {\n",
       "        vertical-align: top;\n",
       "    }\n",
       "\n",
       "    .dataframe thead th {\n",
       "        text-align: right;\n",
       "    }\n",
       "</style>\n",
       "<table border=\"1\" class=\"dataframe\">\n",
       "  <thead>\n",
       "    <tr style=\"text-align: right;\">\n",
       "      <th></th>\n",
       "      <th>id</th>\n",
       "      <th>bone_length</th>\n",
       "      <th>rotting_flesh</th>\n",
       "      <th>hair_length</th>\n",
       "      <th>has_soul</th>\n",
       "    </tr>\n",
       "  </thead>\n",
       "  <tbody>\n",
       "    <tr>\n",
       "      <th>id</th>\n",
       "      <td>1.000000</td>\n",
       "      <td>-0.062759</td>\n",
       "      <td>-0.007539</td>\n",
       "      <td>0.076475</td>\n",
       "      <td>0.100054</td>\n",
       "    </tr>\n",
       "    <tr>\n",
       "      <th>bone_length</th>\n",
       "      <td>-0.062759</td>\n",
       "      <td>1.000000</td>\n",
       "      <td>-0.041716</td>\n",
       "      <td>0.353881</td>\n",
       "      <td>0.381675</td>\n",
       "    </tr>\n",
       "    <tr>\n",
       "      <th>rotting_flesh</th>\n",
       "      <td>-0.007539</td>\n",
       "      <td>-0.041716</td>\n",
       "      <td>1.000000</td>\n",
       "      <td>-0.220353</td>\n",
       "      <td>-0.132051</td>\n",
       "    </tr>\n",
       "    <tr>\n",
       "      <th>hair_length</th>\n",
       "      <td>0.076475</td>\n",
       "      <td>0.353881</td>\n",
       "      <td>-0.220353</td>\n",
       "      <td>1.000000</td>\n",
       "      <td>0.474835</td>\n",
       "    </tr>\n",
       "    <tr>\n",
       "      <th>has_soul</th>\n",
       "      <td>0.100054</td>\n",
       "      <td>0.381675</td>\n",
       "      <td>-0.132051</td>\n",
       "      <td>0.474835</td>\n",
       "      <td>1.000000</td>\n",
       "    </tr>\n",
       "  </tbody>\n",
       "</table>\n",
       "</div>"
      ],
      "text/plain": [
       "                     id  bone_length  rotting_flesh  hair_length  has_soul\n",
       "id             1.000000    -0.062759      -0.007539     0.076475  0.100054\n",
       "bone_length   -0.062759     1.000000      -0.041716     0.353881  0.381675\n",
       "rotting_flesh -0.007539    -0.041716       1.000000    -0.220353 -0.132051\n",
       "hair_length    0.076475     0.353881      -0.220353     1.000000  0.474835\n",
       "has_soul       0.100054     0.381675      -0.132051     0.474835  1.000000"
      ]
     },
     "execution_count": 12,
     "metadata": {},
     "output_type": "execute_result"
    }
   ],
   "source": [
    "df.corr()"
   ]
  },
  {
   "cell_type": "code",
   "execution_count": 13,
   "metadata": {},
   "outputs": [
    {
     "data": {
      "text/html": [
       "<div>\n",
       "<style scoped>\n",
       "    .dataframe tbody tr th:only-of-type {\n",
       "        vertical-align: middle;\n",
       "    }\n",
       "\n",
       "    .dataframe tbody tr th {\n",
       "        vertical-align: top;\n",
       "    }\n",
       "\n",
       "    .dataframe thead th {\n",
       "        text-align: right;\n",
       "    }\n",
       "</style>\n",
       "<table border=\"1\" class=\"dataframe\">\n",
       "  <thead>\n",
       "    <tr style=\"text-align: right;\">\n",
       "      <th></th>\n",
       "      <th>id</th>\n",
       "      <th>bone_length</th>\n",
       "      <th>rotting_flesh</th>\n",
       "      <th>hair_length</th>\n",
       "      <th>has_soul</th>\n",
       "    </tr>\n",
       "  </thead>\n",
       "  <tbody>\n",
       "    <tr>\n",
       "      <th>count</th>\n",
       "      <td>371.000000</td>\n",
       "      <td>371.000000</td>\n",
       "      <td>371.000000</td>\n",
       "      <td>371.000000</td>\n",
       "      <td>371.000000</td>\n",
       "    </tr>\n",
       "    <tr>\n",
       "      <th>mean</th>\n",
       "      <td>443.676550</td>\n",
       "      <td>0.434160</td>\n",
       "      <td>0.506848</td>\n",
       "      <td>0.529114</td>\n",
       "      <td>0.471392</td>\n",
       "    </tr>\n",
       "    <tr>\n",
       "      <th>std</th>\n",
       "      <td>263.222489</td>\n",
       "      <td>0.132833</td>\n",
       "      <td>0.146358</td>\n",
       "      <td>0.169902</td>\n",
       "      <td>0.176129</td>\n",
       "    </tr>\n",
       "    <tr>\n",
       "      <th>min</th>\n",
       "      <td>0.000000</td>\n",
       "      <td>0.061032</td>\n",
       "      <td>0.095687</td>\n",
       "      <td>0.134600</td>\n",
       "      <td>0.009402</td>\n",
       "    </tr>\n",
       "    <tr>\n",
       "      <th>25%</th>\n",
       "      <td>205.500000</td>\n",
       "      <td>0.340006</td>\n",
       "      <td>0.414812</td>\n",
       "      <td>0.407428</td>\n",
       "      <td>0.348002</td>\n",
       "    </tr>\n",
       "    <tr>\n",
       "      <th>50%</th>\n",
       "      <td>458.000000</td>\n",
       "      <td>0.434891</td>\n",
       "      <td>0.501552</td>\n",
       "      <td>0.538642</td>\n",
       "      <td>0.466372</td>\n",
       "    </tr>\n",
       "    <tr>\n",
       "      <th>75%</th>\n",
       "      <td>678.500000</td>\n",
       "      <td>0.517223</td>\n",
       "      <td>0.603977</td>\n",
       "      <td>0.647244</td>\n",
       "      <td>0.600610</td>\n",
       "    </tr>\n",
       "    <tr>\n",
       "      <th>max</th>\n",
       "      <td>897.000000</td>\n",
       "      <td>0.817001</td>\n",
       "      <td>0.932466</td>\n",
       "      <td>1.000000</td>\n",
       "      <td>0.935721</td>\n",
       "    </tr>\n",
       "  </tbody>\n",
       "</table>\n",
       "</div>"
      ],
      "text/plain": [
       "               id  bone_length  rotting_flesh  hair_length    has_soul\n",
       "count  371.000000   371.000000     371.000000   371.000000  371.000000\n",
       "mean   443.676550     0.434160       0.506848     0.529114    0.471392\n",
       "std    263.222489     0.132833       0.146358     0.169902    0.176129\n",
       "min      0.000000     0.061032       0.095687     0.134600    0.009402\n",
       "25%    205.500000     0.340006       0.414812     0.407428    0.348002\n",
       "50%    458.000000     0.434891       0.501552     0.538642    0.466372\n",
       "75%    678.500000     0.517223       0.603977     0.647244    0.600610\n",
       "max    897.000000     0.817001       0.932466     1.000000    0.935721"
      ]
     },
     "execution_count": 13,
     "metadata": {},
     "output_type": "execute_result"
    }
   ],
   "source": [
    "df.describe()"
   ]
  },
  {
   "cell_type": "code",
   "execution_count": 14,
   "metadata": {},
   "outputs": [
    {
     "name": "stdout",
     "output_type": "stream",
     "text": [
      "<class 'pandas.core.frame.DataFrame'>\n",
      "RangeIndex: 371 entries, 0 to 370\n",
      "Data columns (total 7 columns):\n",
      "id               371 non-null int64\n",
      "bone_length      371 non-null float64\n",
      "rotting_flesh    371 non-null float64\n",
      "hair_length      371 non-null float64\n",
      "has_soul         371 non-null float64\n",
      "color            371 non-null object\n",
      "type             371 non-null object\n",
      "dtypes: float64(4), int64(1), object(2)\n",
      "memory usage: 17.4+ KB\n"
     ]
    }
   ],
   "source": [
    "df.info()"
   ]
  },
  {
   "cell_type": "code",
   "execution_count": 15,
   "metadata": {},
   "outputs": [],
   "source": [
    "df= pd.get_dummies(df,columns=['color'])"
   ]
  },
  {
   "cell_type": "code",
   "execution_count": 16,
   "metadata": {},
   "outputs": [],
   "source": [
    "\n",
    "for i,row in df.iterrows():\n",
    "    #print(i == 'Ghoul')\n",
    "    #print(i)\n",
    "    #print(row['type'])\n",
    "    type_int=0\n",
    "    if row['type'] == 'Ghoul':\n",
    "        type_int=int(1)\n",
    "    elif row['type'] == 'Goblin':\n",
    "        type_int=int(2)\n",
    "    else:\n",
    "        type_int=int(3)\n",
    "    df.at[i,'type_int'] = int(type_int)\n",
    "    #break\n",
    "df['type_int'] = pd.to_numeric(df['type_int'],downcast='integer')"
   ]
  },
  {
   "cell_type": "code",
   "execution_count": 17,
   "metadata": {},
   "outputs": [
    {
     "data": {
      "text/html": [
       "<div>\n",
       "<style scoped>\n",
       "    .dataframe tbody tr th:only-of-type {\n",
       "        vertical-align: middle;\n",
       "    }\n",
       "\n",
       "    .dataframe tbody tr th {\n",
       "        vertical-align: top;\n",
       "    }\n",
       "\n",
       "    .dataframe thead th {\n",
       "        text-align: right;\n",
       "    }\n",
       "</style>\n",
       "<table border=\"1\" class=\"dataframe\">\n",
       "  <thead>\n",
       "    <tr style=\"text-align: right;\">\n",
       "      <th></th>\n",
       "      <th>id</th>\n",
       "      <th>bone_length</th>\n",
       "      <th>rotting_flesh</th>\n",
       "      <th>hair_length</th>\n",
       "      <th>has_soul</th>\n",
       "      <th>type</th>\n",
       "      <th>color_black</th>\n",
       "      <th>color_blood</th>\n",
       "      <th>color_blue</th>\n",
       "      <th>color_clear</th>\n",
       "      <th>color_green</th>\n",
       "      <th>color_white</th>\n",
       "      <th>type_int</th>\n",
       "    </tr>\n",
       "  </thead>\n",
       "  <tbody>\n",
       "    <tr>\n",
       "      <th>0</th>\n",
       "      <td>0</td>\n",
       "      <td>0.354512</td>\n",
       "      <td>0.350839</td>\n",
       "      <td>0.465761</td>\n",
       "      <td>0.781142</td>\n",
       "      <td>Ghoul</td>\n",
       "      <td>0</td>\n",
       "      <td>0</td>\n",
       "      <td>0</td>\n",
       "      <td>1</td>\n",
       "      <td>0</td>\n",
       "      <td>0</td>\n",
       "      <td>1</td>\n",
       "    </tr>\n",
       "    <tr>\n",
       "      <th>1</th>\n",
       "      <td>1</td>\n",
       "      <td>0.575560</td>\n",
       "      <td>0.425868</td>\n",
       "      <td>0.531401</td>\n",
       "      <td>0.439899</td>\n",
       "      <td>Goblin</td>\n",
       "      <td>0</td>\n",
       "      <td>0</td>\n",
       "      <td>0</td>\n",
       "      <td>0</td>\n",
       "      <td>1</td>\n",
       "      <td>0</td>\n",
       "      <td>2</td>\n",
       "    </tr>\n",
       "    <tr>\n",
       "      <th>2</th>\n",
       "      <td>2</td>\n",
       "      <td>0.467875</td>\n",
       "      <td>0.354330</td>\n",
       "      <td>0.811616</td>\n",
       "      <td>0.791225</td>\n",
       "      <td>Ghoul</td>\n",
       "      <td>1</td>\n",
       "      <td>0</td>\n",
       "      <td>0</td>\n",
       "      <td>0</td>\n",
       "      <td>0</td>\n",
       "      <td>0</td>\n",
       "      <td>1</td>\n",
       "    </tr>\n",
       "    <tr>\n",
       "      <th>3</th>\n",
       "      <td>4</td>\n",
       "      <td>0.776652</td>\n",
       "      <td>0.508723</td>\n",
       "      <td>0.636766</td>\n",
       "      <td>0.884464</td>\n",
       "      <td>Ghoul</td>\n",
       "      <td>1</td>\n",
       "      <td>0</td>\n",
       "      <td>0</td>\n",
       "      <td>0</td>\n",
       "      <td>0</td>\n",
       "      <td>0</td>\n",
       "      <td>1</td>\n",
       "    </tr>\n",
       "    <tr>\n",
       "      <th>4</th>\n",
       "      <td>5</td>\n",
       "      <td>0.566117</td>\n",
       "      <td>0.875862</td>\n",
       "      <td>0.418594</td>\n",
       "      <td>0.636438</td>\n",
       "      <td>Ghost</td>\n",
       "      <td>0</td>\n",
       "      <td>0</td>\n",
       "      <td>0</td>\n",
       "      <td>0</td>\n",
       "      <td>1</td>\n",
       "      <td>0</td>\n",
       "      <td>3</td>\n",
       "    </tr>\n",
       "  </tbody>\n",
       "</table>\n",
       "</div>"
      ],
      "text/plain": [
       "   id  bone_length  rotting_flesh  hair_length  has_soul    type  color_black  \\\n",
       "0   0     0.354512       0.350839     0.465761  0.781142   Ghoul            0   \n",
       "1   1     0.575560       0.425868     0.531401  0.439899  Goblin            0   \n",
       "2   2     0.467875       0.354330     0.811616  0.791225   Ghoul            1   \n",
       "3   4     0.776652       0.508723     0.636766  0.884464   Ghoul            1   \n",
       "4   5     0.566117       0.875862     0.418594  0.636438   Ghost            0   \n",
       "\n",
       "   color_blood  color_blue  color_clear  color_green  color_white  type_int  \n",
       "0            0           0            1            0            0         1  \n",
       "1            0           0            0            1            0         2  \n",
       "2            0           0            0            0            0         1  \n",
       "3            0           0            0            0            0         1  \n",
       "4            0           0            0            1            0         3  "
      ]
     },
     "execution_count": 17,
     "metadata": {},
     "output_type": "execute_result"
    }
   ],
   "source": [
    "df.head()"
   ]
  },
  {
   "cell_type": "markdown",
   "metadata": {},
   "source": [
    "### Stacking"
   ]
  },
  {
   "cell_type": "markdown",
   "metadata": {},
   "source": [
    "### Using Decission Tree, Random Forest, Ada Boosting"
   ]
  },
  {
   "cell_type": "code",
   "execution_count": 19,
   "metadata": {},
   "outputs": [],
   "source": [
    "#build stacked model using selected features\n",
    "rf1 = ensemble.RandomForestClassifier(random_state=100)\n",
    "gb2 = ensemble.GradientBoostingClassifier(random_state=100)\n",
    "\n",
    "dt = tree.DecisionTreeClassifier(random_state=100) #For Stacking"
   ]
  },
  {
   "cell_type": "code",
   "execution_count": 23,
   "metadata": {},
   "outputs": [],
   "source": [
    "stacking_estimator = mlxClassifier.StackingClassifier(classifiers = [rf1,gb2], meta_classifier=dt)"
   ]
  },
  {
   "cell_type": "code",
   "execution_count": 38,
   "metadata": {},
   "outputs": [],
   "source": [
    "stack_grid = {'randomforestclassifier__n_estimators': [5, 10],\n",
    "              'randomforestclassifier__max_features': [4, 5, 6],\n",
    "              'gradientboostingclassifier__n_estimators': [5, 10],\n",
    "              'meta-decisiontreeclassifier__min_samples_split': [8, 9]}"
   ]
  },
  {
   "cell_type": "code",
   "execution_count": 39,
   "metadata": {},
   "outputs": [],
   "source": [
    "#, 'has_soul'\n",
    "X_train =df[[ 'bone_length', 'rotting_flesh', 'hair_length','has_soul',\n",
    "       'color_black', 'color_blood', 'color_blue', 'color_clear',\n",
    "       'color_green', 'color_white']]\n",
    "Y_train = df['type_int']"
   ]
  },
  {
   "cell_type": "code",
   "execution_count": 40,
   "metadata": {},
   "outputs": [
    {
     "data": {
      "text/plain": [
       "GridSearchCV(cv=10, error_score='raise',\n",
       "       estimator=StackingClassifier(average_probas=False,\n",
       "          classifiers=[RandomForestClassifier(bootstrap=True, class_weight=None, criterion='gini',\n",
       "            max_depth=None, max_features='auto', max_leaf_nodes=None,\n",
       "            min_impurity_decrease=0.0, min_impurity_split=None,\n",
       "            min_...ures=False, use_clones=True,\n",
       "          use_features_in_secondary=False, use_probas=False, verbose=0),\n",
       "       fit_params=None, iid=True, n_jobs=1,\n",
       "       param_grid={'randomforestclassifier__n_estimators': [5, 10], 'randomforestclassifier__max_features': [4, 5, 6], 'gradientboostingclassifier__n_estimators': [5, 10], 'meta-decisiontreeclassifier__min_samples_split': [8, 9]},\n",
       "       pre_dispatch='2*n_jobs', refit=True, return_train_score='warn',\n",
       "       scoring=None, verbose=0)"
      ]
     },
     "execution_count": 40,
     "metadata": {},
     "output_type": "execute_result"
    }
   ],
   "source": [
    "grid_stack_estimator = model_selection.GridSearchCV(stacking_estimator, stack_grid, cv=10)\n",
    "grid_stack_estimator.fit(X_train, Y_train)"
   ]
  },
  {
   "cell_type": "code",
   "execution_count": 41,
   "metadata": {},
   "outputs": [
    {
     "name": "stdout",
     "output_type": "stream",
     "text": [
      "0.7035040431266847\n",
      "{'gradientboostingclassifier__n_estimators': 5, 'meta-decisiontreeclassifier__min_samples_split': 8, 'randomforestclassifier__max_features': 5, 'randomforestclassifier__n_estimators': 10}\n"
     ]
    }
   ],
   "source": [
    "print(grid_stack_estimator.best_score_)\n",
    "print(grid_stack_estimator.best_params_)"
   ]
  },
  {
   "cell_type": "code",
   "execution_count": 42,
   "metadata": {},
   "outputs": [
    {
     "name": "stdout",
     "output_type": "stream",
     "text": [
      "0.9892183288409704\n"
     ]
    }
   ],
   "source": [
    "print(grid_stack_estimator.score(X_train, Y_train))"
   ]
  },
  {
   "cell_type": "code",
   "execution_count": 30,
   "metadata": {},
   "outputs": [
    {
     "name": "stdout",
     "output_type": "stream",
     "text": [
      "[RandomForestClassifier(bootstrap=True, class_weight=None, criterion='gini',\n",
      "            max_depth=None, max_features=7, max_leaf_nodes=None,\n",
      "            min_impurity_decrease=0.0, min_impurity_split=None,\n",
      "            min_samples_leaf=1, min_samples_split=2,\n",
      "            min_weight_fraction_leaf=0.0, n_estimators=10, n_jobs=1,\n",
      "            oob_score=False, random_state=100, verbose=0, warm_start=False), GradientBoostingClassifier(criterion='friedman_mse', init=None,\n",
      "              learning_rate=0.1, loss='deviance', max_depth=3,\n",
      "              max_features=None, max_leaf_nodes=None,\n",
      "              min_impurity_decrease=0.0, min_impurity_split=None,\n",
      "              min_samples_leaf=1, min_samples_split=2,\n",
      "              min_weight_fraction_leaf=0.0, n_estimators=5, presort='auto',\n",
      "              random_state=100, subsample=1.0, verbose=0, warm_start=False)]\n",
      "DecisionTreeClassifier(class_weight=None, criterion='gini', max_depth=None,\n",
      "            max_features=None, max_leaf_nodes=None,\n",
      "            min_impurity_decrease=0.0, min_impurity_split=None,\n",
      "            min_samples_leaf=1, min_samples_split=2,\n",
      "            min_weight_fraction_leaf=0.0, presort=False, random_state=100,\n",
      "            splitter='best')\n"
     ]
    }
   ],
   "source": [
    "final_model = grid_stack_estimator.best_estimator_\n",
    "print(final_model.clfs_) #Classifiers\n",
    "print(final_model.meta_clf_) #Meta Classifiers"
   ]
  },
  {
   "cell_type": "markdown",
   "metadata": {},
   "source": [
    "### Prediction using Voting on test data"
   ]
  },
  {
   "cell_type": "code",
   "execution_count": 31,
   "metadata": {},
   "outputs": [],
   "source": [
    "df_test=pd.read_csv('test.csv')\n",
    "df_test= pd.get_dummies(df_test,columns=['color'])\n",
    "df_test.head()\n",
    "X_test =df_test[[ 'bone_length', 'rotting_flesh', 'hair_length', 'has_soul',\n",
    "       'color_black', 'color_blood', 'color_blue', 'color_clear',\n",
    "       'color_green', 'color_white']]"
   ]
  },
  {
   "cell_type": "code",
   "execution_count": 33,
   "metadata": {},
   "outputs": [],
   "source": [
    "df_test['type_int']=grid_stack_estimator.predict(X_test)"
   ]
  },
  {
   "cell_type": "code",
   "execution_count": 34,
   "metadata": {},
   "outputs": [
    {
     "data": {
      "text/html": [
       "<div>\n",
       "<style scoped>\n",
       "    .dataframe tbody tr th:only-of-type {\n",
       "        vertical-align: middle;\n",
       "    }\n",
       "\n",
       "    .dataframe tbody tr th {\n",
       "        vertical-align: top;\n",
       "    }\n",
       "\n",
       "    .dataframe thead th {\n",
       "        text-align: right;\n",
       "    }\n",
       "</style>\n",
       "<table border=\"1\" class=\"dataframe\">\n",
       "  <thead>\n",
       "    <tr style=\"text-align: right;\">\n",
       "      <th></th>\n",
       "      <th>id</th>\n",
       "      <th>bone_length</th>\n",
       "      <th>rotting_flesh</th>\n",
       "      <th>hair_length</th>\n",
       "      <th>has_soul</th>\n",
       "      <th>color_black</th>\n",
       "      <th>color_blood</th>\n",
       "      <th>color_blue</th>\n",
       "      <th>color_clear</th>\n",
       "      <th>color_green</th>\n",
       "      <th>color_white</th>\n",
       "      <th>type_int</th>\n",
       "    </tr>\n",
       "  </thead>\n",
       "  <tbody>\n",
       "    <tr>\n",
       "      <th>0</th>\n",
       "      <td>3</td>\n",
       "      <td>0.471774</td>\n",
       "      <td>0.387937</td>\n",
       "      <td>0.706087</td>\n",
       "      <td>0.698537</td>\n",
       "      <td>1</td>\n",
       "      <td>0</td>\n",
       "      <td>0</td>\n",
       "      <td>0</td>\n",
       "      <td>0</td>\n",
       "      <td>0</td>\n",
       "      <td>1</td>\n",
       "    </tr>\n",
       "    <tr>\n",
       "      <th>1</th>\n",
       "      <td>6</td>\n",
       "      <td>0.427332</td>\n",
       "      <td>0.645024</td>\n",
       "      <td>0.565558</td>\n",
       "      <td>0.451462</td>\n",
       "      <td>0</td>\n",
       "      <td>0</td>\n",
       "      <td>0</td>\n",
       "      <td>0</td>\n",
       "      <td>0</td>\n",
       "      <td>1</td>\n",
       "      <td>2</td>\n",
       "    </tr>\n",
       "    <tr>\n",
       "      <th>2</th>\n",
       "      <td>9</td>\n",
       "      <td>0.549602</td>\n",
       "      <td>0.491931</td>\n",
       "      <td>0.660387</td>\n",
       "      <td>0.449809</td>\n",
       "      <td>1</td>\n",
       "      <td>0</td>\n",
       "      <td>0</td>\n",
       "      <td>0</td>\n",
       "      <td>0</td>\n",
       "      <td>0</td>\n",
       "      <td>1</td>\n",
       "    </tr>\n",
       "    <tr>\n",
       "      <th>3</th>\n",
       "      <td>10</td>\n",
       "      <td>0.638095</td>\n",
       "      <td>0.682867</td>\n",
       "      <td>0.471409</td>\n",
       "      <td>0.356924</td>\n",
       "      <td>0</td>\n",
       "      <td>0</td>\n",
       "      <td>0</td>\n",
       "      <td>0</td>\n",
       "      <td>0</td>\n",
       "      <td>1</td>\n",
       "      <td>3</td>\n",
       "    </tr>\n",
       "    <tr>\n",
       "      <th>4</th>\n",
       "      <td>13</td>\n",
       "      <td>0.361762</td>\n",
       "      <td>0.583997</td>\n",
       "      <td>0.377256</td>\n",
       "      <td>0.276364</td>\n",
       "      <td>1</td>\n",
       "      <td>0</td>\n",
       "      <td>0</td>\n",
       "      <td>0</td>\n",
       "      <td>0</td>\n",
       "      <td>0</td>\n",
       "      <td>3</td>\n",
       "    </tr>\n",
       "  </tbody>\n",
       "</table>\n",
       "</div>"
      ],
      "text/plain": [
       "   id  bone_length  rotting_flesh  hair_length  has_soul  color_black  \\\n",
       "0   3     0.471774       0.387937     0.706087  0.698537            1   \n",
       "1   6     0.427332       0.645024     0.565558  0.451462            0   \n",
       "2   9     0.549602       0.491931     0.660387  0.449809            1   \n",
       "3  10     0.638095       0.682867     0.471409  0.356924            0   \n",
       "4  13     0.361762       0.583997     0.377256  0.276364            1   \n",
       "\n",
       "   color_blood  color_blue  color_clear  color_green  color_white  type_int  \n",
       "0            0           0            0            0            0         1  \n",
       "1            0           0            0            0            1         2  \n",
       "2            0           0            0            0            0         1  \n",
       "3            0           0            0            0            1         3  \n",
       "4            0           0            0            0            0         3  "
      ]
     },
     "execution_count": 34,
     "metadata": {},
     "output_type": "execute_result"
    }
   ],
   "source": [
    "df_test.head()"
   ]
  },
  {
   "cell_type": "code",
   "execution_count": 35,
   "metadata": {},
   "outputs": [],
   "source": [
    "for i,row in df_test.iterrows():\n",
    "    #print(i == 'Ghoul')\n",
    "    #print(i)\n",
    "    #print(row['type'])\n",
    "    type_res=''\n",
    "    if row['type_int'] == 1:\n",
    "        type_res='Ghoul'\n",
    "    elif row['type_int'] == 2:\n",
    "        type_res='Goblin'\n",
    "    else:\n",
    "        type_res='Ghost'\n",
    "    df_test.at[i,'type'] = type_res"
   ]
  },
  {
   "cell_type": "code",
   "execution_count": 36,
   "metadata": {},
   "outputs": [],
   "source": [
    "df_test.to_csv(\"Submission_GGG_stack_estimator.csv\",columns=['id','type'],index=False)"
   ]
  },
  {
   "cell_type": "markdown",
   "metadata": {},
   "source": [
    "\n",
    "####  Best ~ 0.703504  train_data score ~ 0.989218 (Ada Boosting with Random Forest)  Kaggle: 0.70321\n"
   ]
  },
  {
   "cell_type": "code",
   "execution_count": null,
   "metadata": {},
   "outputs": [],
   "source": []
  }
 ],
 "metadata": {
  "kernelspec": {
   "display_name": "Python 3",
   "language": "python",
   "name": "python3"
  },
  "language_info": {
   "codemirror_mode": {
    "name": "ipython",
    "version": 3
   },
   "file_extension": ".py",
   "mimetype": "text/x-python",
   "name": "python",
   "nbconvert_exporter": "python",
   "pygments_lexer": "ipython3",
   "version": "3.6.3"
  }
 },
 "nbformat": 4,
 "nbformat_minor": 2
}
